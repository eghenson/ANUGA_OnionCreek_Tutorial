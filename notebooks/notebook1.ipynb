{
 "cells": [
  {
   "cell_type": "markdown",
   "metadata": {
    "colab_type": "text",
    "id": "view-in-github"
   },
   "source": [
    "<a href=\"https://colab.research.google.com/github/wrightky/ANUGA_OnionCreek_Tutorial/blob/master/notebooks/notebook1.ipynb\" target=\"_parent\"><img src=\"https://colab.research.google.com/assets/colab-badge.svg\" alt=\"Open In Colab\"/></a>"
   ]
  },
  {
   "cell_type": "markdown",
   "metadata": {
    "colab_type": "text",
    "id": "MFkDMm10DPK7"
   },
   "source": [
    "# ANUGA Lab\n",
    "\n",
    "## CE377K - River Mechanics\n",
    "### Kyle Wright\n",
    "#### March 29-30, 2022\n",
    "\n",
    "The goal of this Notebook is to give users an introduction to some of the basic functionality of the **ANUGA** hydrodynamic model. This model solves the 2D shallow-water equations on an **unstructured triangular grid**, and offers some key advantages over other models for modeling the hydrodynamics of Earth systems.\n",
    "\n",
    "In this tutorial, we will build a simple, small, coarse model of the **Onion Creek Watershed**. Different cell blocks will demonstate how one can build the model mesh, initialize the domain, setup the parameters of the model, and run the simulation. \n",
    "\n",
    "The point of this script is not to build the best model we can of the domain, but rather to **demonstrate the workflow** of constructing a model that can be modified or replicated for other (better) models. \n",
    "\n",
    "These notebooks are written in Python 3, and have been designed to run in the Google `colaboratory` environment, which provides a Jupyter notebook environment running on a virtual machine on the cloud. Nothing needs to be installed locally, as it is entirely run on Google Drive. All you need is a Google account. All of these scripts are stored on GitHub, which is a platform for sharing open-source codes.\n",
    "\n",
    "To start interacting with the notebook follow the `Open in Colab` link above. Once you're there, click `File` > `Save a Copy in Drive`"
   ]
  },
  {
   "cell_type": "markdown",
   "metadata": {
    "colab_type": "text",
    "id": "Dt-Ti7kdQX3C"
   },
   "source": [
    "## Setup Environment\n",
    "\n",
    "The first thing we have to do is set up our environment. In Python, this means downloading all the necessary functions we want to use, including ANUGA. \n",
    "\n",
    "Run the following cell to install the dependencies and some extra code for visualising on Colaboratory. To run each code block, you can simply type `shift` + `enter`\n",
    "\n",
    "Wait until you see the comment *(5) Ready to go* before proceeding to subsequent commands. The install should take less than a minute.\n",
    "\n",
    "NOTE: Tutorial installation is based on the [2018 CSDMS Anuga Clinic](https://github.com/stoiver/anuga-clinic-2018)"
   ]
  },
  {
   "cell_type": "code",
   "execution_count": null,
   "metadata": {
    "colab": {},
    "colab_type": "code",
    "id": "xdCgMgk7_ZcW"
   },
   "outputs": [],
   "source": [
    "# \n",
    "try:\n",
    "  import os\n",
    "  os.chdir('/content')\n",
    "  !git clone https://github.com/wrightky/ANUGA_OnionCreek_Tutorial.git\n",
    "\n",
    "  # Now install environment using tool\n",
    "  !/bin/bash /content/ANUGA_OnionCreek_Tutorial/anuga_tools/install_anuga_colab.sh\n",
    " \n",
    "except:\n",
    "  pass\n",
    "\n",
    "# Make anuga-clinic code available\n",
    "\n",
    "if not 'workbookDir' in globals():\n",
    "    workbookDir = os.getcwd()\n",
    "\n",
    "import sys\n",
    "sys.path.append(os.path.join(workbookDir,\"ANUGA_OnionCreek_Tutorial\"))"
   ]
  }
 ],
 "metadata": {
  "colab": {
   "collapsed_sections": [],
   "include_colab_link": true,
   "name": "notebooks/notebook1.ipynb",
   "provenance": [],
   "version": "0.3.2"
  },
  "kernelspec": {
   "display_name": "Python 3",
   "language": "python",
   "name": "python3"
  },
  "language_info": {
   "codemirror_mode": {
    "name": "ipython",
    "version": 3
   },
   "file_extension": ".py",
   "mimetype": "text/x-python",
   "name": "python",
   "nbconvert_exporter": "python",
   "pygments_lexer": "ipython3",
   "version": "3.7.3"
  }
 },
 "nbformat": 4,
 "nbformat_minor": 4
}
