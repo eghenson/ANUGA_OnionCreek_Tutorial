{
  "cells": [
    {
      "cell_type": "markdown",
      "metadata": {
        "id": "MFkDMm10DPK7"
      },
      "source": [
        "# ANUGA Lab\n",
        "\n",
        "## CE377K - River Mechanics\n",
        "### Kyle Wright\n",
        "#### March 29-31, 2022\n",
        "\n",
        "The goal of this Notebook is to give users an introduction to some of the basic functionality of the **ANUGA** hydrodynamic model. This model solves the 2D shallow-water equations on an **unstructured triangular grid**, and offers some key advantages over other models for modeling the hydrodynamics of Earth systems.\n",
        "\n",
        "In this tutorial, we will build a simple, small, coarse model of the **Onion Creek Watershed**. Different cell blocks will demonstate how one can build the model mesh, initialize the domain, setup the parameters of the model, and run the simulation. \n",
        "\n",
        "The point of this script is not to build the best model we can of the domain, but rather to **demonstrate the workflow** of constructing a model that can be modified or replicated for other (better) models. \n",
        "\n",
        "These notebooks are written in Python 3, and have been designed to run in the Google `colaboratory` environment, which provides a Jupyter notebook environment running on a virtual machine on the cloud. Nothing needs to be installed locally, as it is entirely run on Google Drive. All you need is a Google account. All of these scripts are stored on GitHub, which is a platform for sharing open-source codes.\n",
        "\n",
        "To start interacting with the notebook follow the `Open in Colab` link above. Once you're there, click `File` > `Save a Copy in Drive`"
      ]
    },
    {
      "cell_type": "markdown",
      "metadata": {
        "id": "Dt-Ti7kdQX3C"
      },
      "source": [
        "## Setup Environment\n",
        "\n",
        "The first thing we have to do is set up our environment. In Python, this means downloading all the necessary functions we want to use, including ANUGA. \n",
        "\n",
        "Run the following cell to install the dependencies and some extra code for visualising on Colaboratory. To run each code block, you can simply type `shift` + `enter`\n",
        "\n",
        "Wait until you see the comment *(5) Ready to go* before proceeding to subsequent commands. The install should take less than a minute.\n",
        "\n",
        "NOTE: Tutorial installation is based on the [2018 CSDMS Anuga Clinic](https://github.com/stoiver/anuga-clinic-2018)"
      ]
    },
    {
      "cell_type": "code",
      "execution_count": null,
      "metadata": {
        "id": "xdCgMgk7_ZcW"
      },
      "outputs": [],
      "source": [
        "# \n",
        "try:\n",
        "  import os\n",
        "  os.chdir('/content')\n",
        "  !git clone https://github.com/wrightky/ANUGA_OnionCreek_Tutorial.git\n",
        "\n",
        "  # Now install environment using tool\n",
        "  !/bin/bash /content/ANUGA_OnionCreek_Tutorial/anuga_tools/install_anuga_colab.sh\n",
        " \n",
        "except:\n",
        "  pass\n",
        "\n",
        "# Make anuga-clinic code available\n",
        "\n",
        "if not 'workbookDir' in globals():\n",
        "    workbookDir = os.getcwd()\n",
        "\n",
        "import sys\n",
        "sys.path.append(os.path.join(workbookDir,\"ANUGA_OnionCreek_Tutorial\"))"
      ]
    },
    {
      "cell_type": "code",
      "source": [
        "import numpy as np\n",
        "import matplotlib\n",
        "matplotlib.use('Agg')\n",
        "import matplotlib.pyplot as plt\n",
        "# from scipy.interpolate import interp1d\n",
        "import pandas as pd\n",
        "import os\n",
        "import datetime\n",
        "# from osgeo import gdal\n",
        "import anuga\n",
        "from anuga.utilities import animate\n",
        "# from anuga import Inlet_operator\n",
        "from google.colab import files\n",
        "\n",
        "%matplotlib inline"
      ],
      "metadata": {
        "id": "VP3EdHMheBND"
      },
      "execution_count": null,
      "outputs": []
    },
    {
      "cell_type": "markdown",
      "source": [
        "## Create ANUGA domain and mesh\n",
        "\n",
        "In the following cell, we read in our model boundary polygon, and **instantiate the model domain and mesh** from that polygon. The internal mesh engine does almost all of the work for us here, we just need to feed it our **domain size**, desired **mesh resolution**, and any **interior polygons** we might want (if we have any). \n",
        "\n",
        "Interior polygons are one of the powerful features of ANUGA. We can have any number of regions inside our domain with their own mesh resolution. Is there an area you really care about and want to model in high-resolution? Easy. Is there an area you need to include but don't care a lot about, and can make very coarse to save computational time? Also easy. The only constraint is that the polygons defining the boundary those regions **can't overlap**.\n",
        "\n",
        "For visualization, we will be making use of ANUGA's `animate.Domain_plotter` tool, which we initialize here and call repeatedly later."
      ],
      "metadata": {
        "id": "iWcVleSleW-9"
      }
    },
    {
      "cell_type": "code",
      "source": [
        "# ---------------Define Domain Boundary-----------------\n",
        "bounding_polygon = [[622338.0, 3339415.0], [623005.0, 3341128.0],\n",
        "                    [626983.0, 3340039.0], [626675.0, 3338530.0]]\n",
        "\n",
        "# Assign a name to the different kinds of boundaries, needed for BCs later\n",
        "boundary_tags={'sides': [0,1,3], 'downstream': [2]} # ID of segments, not points\n",
        "\n",
        "# ---------------Define Geo Reference-------------------\n",
        "geo_reference = anuga.Geo_reference(zone=14,\n",
        "                                    datum='wgs84',\n",
        "                                    projection='UTM',\n",
        "                                    false_easting=500000,\n",
        "                                    false_northing=0)\n",
        "\n",
        "# Mesh Resolution (max area of triangles in each given region)\n",
        "base_res = 100. # Areas we somewhat care about\n",
        "\n",
        "# ---------------Generate domain and mesh---------------\n",
        "domain = anuga.create_domain_from_regions(bounding_polygon, boundary_tags,\n",
        "                                          maximum_triangle_area=base_res,\n",
        "                                          mesh_geo_reference=geo_reference,\n",
        "                                          mesh_filename = 'onion.msh')\n",
        "# Comment out the interior region command to see what the mesh\n",
        "# looks like without these features\n",
        "domain.set_name('OnionCreek')\n",
        "domain.set_flow_algorithm('DE1')\n",
        "domain.set_minimum_allowed_height(0.02)  # Only store heights > 2 cm\n",
        "\n",
        "# Plot mesh\n",
        "fig = plt.figure(figsize=(5, 5), dpi=250, facecolor='w', edgecolor='k')\n",
        "dplotter = animate.Domain_plotter(domain)\n",
        "plt.triplot(dplotter.triang, linewidth=0.1);\n",
        "plt.axis('scaled')\n",
        "\n",
        "# Print out some descriptive statistics of our mesh cells\n",
        "print domain.statistics()"
      ],
      "metadata": {
        "id": "UP95gC9peQE3"
      },
      "execution_count": null,
      "outputs": []
    },
    {
      "cell_type": "markdown",
      "source": [
        "## Create bathymetry/topography\n",
        "\n",
        "Here we **populate** our new mesh with **topographic information** from an ASCII file. We started by converting from a GeoTIFF to an ASCII file (example command shown below using `gdal_translate`, here I just give you the ASCII directly). Then we do some additional conversions to get this into a filetype ANUGA can use (`.dem`, `.pts`). Finally, we use the resulting `.pts` file to create our model bathymetry.\n",
        "\n",
        "These steps can be **quite slow** for fine meshes, so if the mesh isn't changing between runs, we recommend **saving the resulting topography** from the domain as a `.csv` and just re-loading that file for future runs. This file will be a long list of elevation values sorted by triangle ID.\n",
        "\n",
        "*Note: The ASCII file needs to have the same headers as the file used here, which sometimes isn't the default. To repeat these steps, check the ASCII file with a text editor and make sure it has the same headers as the example ASCII files in th ANUGA examples folder. It also needs the accompanying `.prj` file!*"
      ],
      "metadata": {
        "id": "mO7vMG2Wehq1"
      }
    },
    {
      "cell_type": "code",
      "source": [
        "# If starting from a GeoTIFF, translate to ASCII:\n",
        "# !gdal_translate -of AAIGrid bathy.tif bathy.asc\n",
        "# ASCII to DEM conversion\n",
        "anuga.asc2dem('EG_OnionCreek_2m_EPSG_32614_m.asc', use_cache=False, verbose=True)\n",
        "# DEM to \"points\"\n",
        "anuga.dem2pts('EG_OnionCreek_2m_EPSG_32614_m.dem', use_cache=False, verbose=True)\n",
        "# Use \"points\" to populate mesh cells\n",
        "domain.set_quantity('elevation', \n",
        "                    filename='EG_OnionCreek_2m_EPSG_32614_m.pts',\n",
        "                    use_cache=False,\n",
        "                    verbose=True,\n",
        "                    alpha=0.1)\n",
        "\n",
        "# Plot topography\n",
        "fig=plt.figure(figsize=(5, 5), dpi= 250, facecolor='w', edgecolor='k')\n",
        "plt.tripcolor(dplotter.triang, facecolors = dplotter.elev, cmap = 'terrain')\n",
        "plt.colorbar(fraction=0.04);\n",
        "plt.title(\"Elevation\");\n",
        "plt.axis('scaled')\n",
        "\n",
        "# To save time next time, we can save the result\n",
        "# topo = domain.quantities['elevation'].centroid_values\n",
        "# np.savetxt('EG_OnionCreek_2m_EPSG_32614_m.csv', topo, delimiter=\",\")"
      ],
      "metadata": {
        "id": "Lrg7kRj5eQHw"
      },
      "execution_count": null,
      "outputs": []
    },
    {
      "cell_type": "markdown",
      "source": [
        "## Add boundary conditions and tides\n",
        "\n",
        "Here we create an artificial tidal signal (based on data from an existing NOAA gauge) and feed our **tide function** into the **boundary condition**. We could just as easily have loaded in real tides and fed ANUGA an intepolation function for that data, but here this will do.\n",
        "\n",
        "For this, we make use of ANUGA's built-in `Time_boundary` boundary condition, for which we specify [`stage`, `xmomentum`, `ymomentum`] as a function of time (only `stage` is set to vary here). All the other boundaries are designated as a no-flux `Reflective_boundary`. Other BCs we could have used include the constant `Dirichlet_boundary`, or some variation of a `Transmissive_boundary`, the latter of which only works in supercritical flows. (Our attempts to use `Transmissive_boundary` in sub-critical coastal flows have all **blown up**. Not fun!)"
      ],
      "metadata": {
        "id": "SXsbRZNaeqU-"
      }
    },
    {
      "cell_type": "code",
      "source": [
        "# Measured water levels\n",
        "tides = pd.read_csv(filename, header=0, names=['datetime', 'WL'])\n",
        "# Convert date string to datetime, create new column epoch for int numeric time\n",
        "tides['datetime'] = pd.to_datetime(tides['datetime'])\n",
        "tides['epoch'] = (tides['datetime'] - tides['datetime'][0]) // pd.Timedelta(\"1s\")\n",
        "fBC_tides = interp1d(tides['epoch'], tides['WL'], kind='linear')\n",
        "\n",
        "# Downstream boundary\n",
        "Bout = anuga.Dirichlet_boundary(domain, function=lambda t: [fBC_tides(t), 0.0, 0.0])\n",
        "# All other boundaries\n",
        "Br = anuga.Reflective_boundary(domain)\n",
        "\n",
        "# Assign BCs to the boundaries we named earlier\n",
        "domain.set_boundary({'bay': Bout, 'sides': Br})\n",
        "\n",
        "# Visualize tides\n",
        "tt = np.linspace(0., 86400., 1000)\n",
        "plt.figure(figsize=(5,3), dpi=150)\n",
        "plt.plot(tt, fBC_tides(tt), 'k-')\n",
        "plt.xlabel('Time [sec]')\n",
        "plt.ylabel('Stage of BC [m]')"
      ],
      "metadata": {
        "id": "8KCZ5ob0eQLq"
      },
      "execution_count": null,
      "outputs": []
    },
    {
      "cell_type": "markdown",
      "source": [
        "## Add discharge hydrograph\n",
        "\n",
        "Here we define our **discharge**, and create an **inlet** through which that discharge is added to the model.\n",
        "\n",
        "The way ANUGA handles discharge is **somewhat odd** compared to other models. Most models define a mass inflow as a boundary condition, and every time-step mass is added appropriately. Due to the way ANUGA's numerical solver works, the boundaries aren't quite ***rigid*** enough to ensure that the proper amount of mass enters the domain this way. Instead, it's recommended to use the built-in `inlet_operator` to add the right amount of mass to the model every time-step, and to make the surrounding boundaries **reflective**. Water will therefore enter our domain from any grid cells that intersect our inlet, somewhat like a flooding bath drain. (Note that **outlets** can be created the same way by specifying a **negative discharge**)\n",
        "\n",
        "To make a static inlet with a steady discharge value, you add the inlet once and be done with it. Because we want our discharge to vary, we have to update the discharge later inside the loop when we run the model. We do this by modifying the `Q` attribute via `wlo_inlet.Q = new_value`."
      ],
      "metadata": {
        "id": "5_9iZp41e0FX"
      }
    },
    {
      "cell_type": "code",
      "source": [
        "# Unsteady discharge parameters\n",
        "Q_base = 1000.    # starting and ending flow rate\n",
        "Q_peak = 3500.\n",
        "t_peak = 9000.   # (2.5 hr, total sim length is 6 hr)\n",
        "simtime = 21600.\n",
        "\n",
        "# ------------Define a hydrograph function-------------\n",
        "def hydrograph(t, tf, t_peak, Q_peak, Q_base):\n",
        "    if t <= t_peak:\n",
        "        # Linear rising limb\n",
        "        Q = Q_base + (Q_peak - Q_base)/t_peak*t\n",
        "    else:\n",
        "        # Linear falling limb\n",
        "        Q = Q_peak - (Q_peak - Q_base)/(tf - t_peak)*(t - t_peak)\n",
        "    return Q\n",
        "\n",
        "# Setup inlets\n",
        "wlo_inlet = [[652800.0, 3272400.0],[653000.0,3272400.0]] # Coordinates of line\n",
        "# If this Q were static, we could add this inlet once and be done, e.g.\n",
        "wlo_inflow = Inlet_operator(domain, wlo_inlet, Q = Q_base)\n",
        "\n",
        "# Visualize time-varying Q\n",
        "tt = np.linspace(0., simtime, 1000)\n",
        "Qplt = [hydrograph(ti, simtime, t_peak, Q_peak, Q_base) for ti in tt]\n",
        "plt.figure(figsize=(5,3), dpi=150)\n",
        "plt.plot(tt, Qplt, 'k-')\n",
        "plt.xlabel('Time [sec]')\n",
        "plt.ylabel('Discharge in the inlet [$m^3/s$]')"
      ],
      "metadata": {
        "id": "KGClIZLXeQOt"
      },
      "execution_count": null,
      "outputs": []
    },
    {
      "cell_type": "markdown",
      "source": [
        "## Add rainfall\n",
        "\n",
        "Rainfall is added to the model domain at a defined rate (mm/s) over a specified period of time. For this simulation, we will add rainfall at **0.01 mm/s** for a duration of **2 hours**. The rainfall scheme specifed here must align with the simulation time to be defined later. We anticipate running a **6 hr simulation**, so let's say here that we will begin applying this rainfall to the domain after **1 hour** of simulation time. This will dump **7.2 cm (2.83 in.)** on the entire domain. This section is pretty simple -- we are only defining our rainfall intensity and timing. The real action occurs in the model simulation loop below.\n",
        "\n",
        "*Note: There are many ways to define rainfall (and discharge) in ANUGA. If we were using a real storm event, we would probably have a `.csv` file with time-series data that we could read here, create an interpolation function similar to the one we established for wind, and feed in that function instead of this artificial one.*"
      ],
      "metadata": {
        "id": "NPzLDP13e893"
      }
    },
    {
      "cell_type": "code",
      "source": [
        "#---------------Define rainfall forcing-------------------\n",
        "# This will dump 7.2 cm (2.83 in.) on the entire domain\n",
        "rain_rate = 0.01  # mm/s\n",
        "rain_leng = 3600*2.  # two hours\n",
        "rain_start = 3600. # start applying rainfall after one hour\n",
        "\n",
        "# Define rain as a function of time\n",
        "def rainfall(t):\n",
        "    if rain_start <= t < rain_leng + rain_start:\n",
        "        rate = rain_rate # Constant over window\n",
        "    else:\n",
        "        rate = 0.\n",
        "    return rate\n",
        "\n",
        "# Append to forcing terms\n",
        "R = anuga.Rainfall(domain, rate=rainfall)\n",
        "domain.forcing_terms.append(R)\n",
        "\n",
        "# Visualize time-varying R\n",
        "tt = np.linspace(0., simtime, 1000)\n",
        "RR = [rainfall(ti) for ti in tt]\n",
        "plt.figure(figsize=(5,3), dpi=150)\n",
        "plt.plot(tt, RR, 'k-')\n",
        "plt.xlabel('Time [sec]')\n",
        "plt.ylabel('Rainfall over the domain [$mm/s$]')"
      ],
      "metadata": {
        "id": "uWe4dDbKeQRy"
      },
      "execution_count": null,
      "outputs": []
    },
    {
      "cell_type": "markdown",
      "source": [
        "## Final touches for initial conditions\n",
        "\n",
        "Here we initialize the **stage**, as well as Manning's coefficients for the non-vegetated areas of the landscape (channels, the bay). We could have used a dry bed as our initial condition, but this will help the model reach a stable condition more quickly. This run is what we would call a **cold start**, because the model is pretty much starting from scratch with an uninformative initial condition. Ideally, for future runs, we would use the saved output of this run as our new IC, because a **hot start** will always converge more quickly."
      ],
      "metadata": {
        "id": "fMVUFey5fGdH"
      }
    },
    {
      "cell_type": "code",
      "source": [
        "# ---------------Load pre-established elevation----------------------\n",
        "stage = topo.copy()  # Initialize stage as = topography\n",
        "stage[topo <= fBC_tides(0)] = fBC_tides(0) # Used for cold start\n",
        "domain.set_quantity('stage', stage, location='centroids')  # Initialize depth\n",
        "\n",
        "# Note that if we had initial conditions from a prior run, we could use those:\n",
        "# domain.set_quantity('xmomentum', init_xmom, location='centroids')\n",
        "# domain.set_quantity('ymomentum', init_ymom, location='centroids')\n",
        "\n",
        "# Use Manning's for non-veg regions\n",
        "friction = np.zeros_like(topo)\n",
        "friction[topo < -0.6] = 0.02 # Natural channels, nc\n",
        "friction[topo >= 0.6] = 0.05 # Very rough floodplains (trees)\n",
        "domain.set_quantity('friction', friction, location = 'centroids')"
      ],
      "metadata": {
        "id": "dahibEFpfHgS"
      },
      "execution_count": null,
      "outputs": []
    },
    {
      "cell_type": "markdown",
      "source": [
        "## Run the model\n",
        "\n",
        "Here we call on `domain.evolve()` to **run the model** for a specified amount of time. We **save information** on the model's converved quantities (`xmomentum`, `ymomentum`, `stage`) into the output file every `yieldstep`, here set to every **900 seconds** (15 minutes). This **isn't the same thing as the *timestep***: the actual timesteps the model takes are decided by ANUGA based on **stability conditions**, which depends on the spacing of the mesh, speed of the flow, and other numerical mumbo-jumbo. We use the command `domain.print_timestepping_statistics()` to tell us some summary statistics of these timesteps every `yieldstep`.\n",
        "\n",
        "This loop also enables us to **make changes to our model** as time progresses, if we wish. In this example, we update discharge and wind speed (if turned on) within the evolve loop. To do this, we simply modify the attributes of the discharge and wind objects we created earlier. For each of these functions, we use the value _centered_ in each time window between this yieldstep and the next (i.e. `t + savefreq`). Notice that we do not have to modify the tide or rainfall forcings here -- those were defined using functions of time, so they are automatically updated every time-step. "
      ],
      "metadata": {
        "id": "eYmCPPVHfNTA"
      }
    },
    {
      "cell_type": "code",
      "source": [
        "# ------------------------------------------------------------------------------\n",
        "# Evolve system through time\n",
        "# ------------------------------------------------------------------------------\n",
        "savefreq = 900.\n",
        "simtime = 21600.\n",
        "\n",
        "for n, t in enumerate(domain.evolve(yieldstep=savefreq, finaltime=simtime)):\n",
        "    # Print out some statistics on the model evolution\n",
        "    domain.print_timestepping_statistics()\n",
        "\n",
        "    # Use animate to save some images to make a movie later\n",
        "    dplotter.save_stage_frame(figsize=(5, 5), dpi=200, vmin=0, vmax=1)\n",
        "    \n",
        "    # -------------Define discharge for current yield step---------------\n",
        "    wlo_inflow.Q = hydrograph(t+savefreq, simtime, t_peak, Q_peak, Q_base)\n",
        "\n",
        "    # ---------------Update wind for next yield step----------------\n",
        "    if wind_on:\n",
        "        W.speed = fBC_windspeed(t+savefreq/2)\n",
        "        W.phi = fBC_winddir(t+savefreq/2)  "
      ],
      "metadata": {
        "id": "DdMOaHKyfHjK"
      },
      "execution_count": null,
      "outputs": []
    },
    {
      "cell_type": "markdown",
      "source": [
        "## Inspect outputs\n",
        "\n",
        "Here, we introduce a few ways one can query the resulting output file. All of ANUGA's results are saved in a **NetCDF** file with the extension `.sww`. These can be loaded using any normal NetCDF reader, but ANUGA also comes pre-packaged with several functions for inspecting your model results, most of which are stored in `anuga.utilities.plot_utils`"
      ],
      "metadata": {
        "id": "UnzPMUl_fVbY"
      }
    },
    {
      "cell_type": "code",
      "source": [
        "# Read in the png files stored during the evolve loop\n",
        "dplotter.make_stage_animation() "
      ],
      "metadata": {
        "id": "ukFo73t7fZX4"
      },
      "execution_count": null,
      "outputs": []
    },
    {
      "cell_type": "code",
      "source": [
        "# Load in values of conserved quantities at every cell centroid\n",
        "swwvals = anuga.utilities.plot_utils.get_centroids('WLD.sww', timeSlices='all')\n",
        "# Query values: time, x, y, stage, elev, height, xmom, ymom, xvel, yvel, friction, vel, etc\n",
        "model_starttime = pd.to_datetime('2016-10-15 00:00:00')\n",
        "\n",
        "# Separate variables just for accessibility\n",
        "time = swwvals.time\n",
        "topo = swwvals.elev\n",
        "x = swwvals.x\n",
        "y = swwvals.y\n",
        "depth = swwvals.height\n",
        "stage = swwvals.stage\n",
        "u = swwvals.xvel\n",
        "v = swwvals.yvel\n",
        "w = np.sqrt(u**2 + v**2)"
      ],
      "metadata": {
        "id": "TbP7bZg9fZaZ"
      },
      "execution_count": null,
      "outputs": []
    },
    {
      "cell_type": "code",
      "source": [
        "# ------------------------------------------------------------------------------\n",
        "# Plot a single map of velocity at centroids\n",
        "# ------------------------------------------------------------------------------\n",
        "# Time index to plot:\n",
        "time_idx = 12\n",
        "\n",
        "timeUTC = pd.to_timedelta(time[time_idx], 's') + model_starttime\n",
        "fig = plt.figure(figsize=(4, 4), dpi=250, facecolor='w', edgecolor='k')\n",
        "plt.tripcolor(dplotter.triang, facecolors=w[time_idx,:], \n",
        "              vmax=0.6, vmin=0, cmap='plasma')\n",
        "cbar = plt.colorbar(fraction=0.045);\n",
        "cbar.set_label('Velocity [m]', rotation=270)\n",
        "plt.title('Velocity : ' + timeUTC.strftime(\"%b %d %Y, %H:%M\"));\n",
        "plt.axis('scaled')"
      ],
      "metadata": {
        "id": "TmCuXAqifZcu"
      },
      "execution_count": null,
      "outputs": []
    },
    {
      "cell_type": "code",
      "source": [
        "# ------------------------------------------------------------------------------\n",
        "# Plot a single map of stage at centroids\n",
        "# ------------------------------------------------------------------------------\n",
        "# Time index to plot:\n",
        "time_idx = 12\n",
        "\n",
        "timeUTC = pd.to_timedelta(time[time_idx], 's') + model_starttime\n",
        "fig = plt.figure(figsize=(4, 4), dpi=250, facecolor='w', edgecolor='k')\n",
        "plt.tripcolor(dplotter.triang, facecolors=stage[time_idx,:], \n",
        "              vmax=0.8, vmin=0, cmap='jet')\n",
        "cbar = plt.colorbar(fraction=0.045);\n",
        "cbar.set_label('Stage [m]', rotation=270)\n",
        "plt.title('Stage : ' + timeUTC.strftime(\"%b %d %Y, %H:%M\"));\n",
        "plt.axis('scaled')"
      ],
      "metadata": {
        "id": "8rGWBIHafj-q"
      },
      "execution_count": null,
      "outputs": []
    },
    {
      "cell_type": "code",
      "source": [
        "# ------------------------------------------------------------------------------\n",
        "# Plot time-series at a gauge location\n",
        "# ------------------------------------------------------------------------------\n",
        "# Create triangle lookup function to find cell index of a gauge\n",
        "p = anuga.utilities.plot_utils.get_output('WLD.sww')\n",
        "tri_lookup = anuga.utilities.plot_utils.get_triangle_lookup_function(p)\n",
        "\n",
        "# Create time vector of model outputs\n",
        "model_timeseries = model_starttime + pd.to_timedelta(time, 's')\n",
        "\n",
        "# Find coordinates of gauge and cell containing it, extract stage\n",
        "xx, yy = [650620.941, 3265354.835]\n",
        "idx = tri_lookup(xx, yy)\n",
        "gaugestage = stage[:, idx]\n",
        "\n",
        "fig = plt.figure(figsize=(5, 3), dpi=150, facecolor='w', edgecolor='k')\n",
        "plt.plot(model_timeseries, gaugestage, 'k--')\n",
        "plt.ylabel('Stage [m NAVD88]')"
      ],
      "metadata": {
        "id": "m7TeaxnlfkBV"
      },
      "execution_count": null,
      "outputs": []
    },
    {
      "cell_type": "code",
      "source": [
        ""
      ],
      "metadata": {
        "id": "onY_Xq_WfkD2"
      },
      "execution_count": null,
      "outputs": []
    },
    {
      "cell_type": "code",
      "source": [
        ""
      ],
      "metadata": {
        "id": "-lk0AWFIeQT2"
      },
      "execution_count": null,
      "outputs": []
    }
  ],
  "metadata": {
    "colab": {
      "collapsed_sections": [],
      "name": "Copy of notebooks/notebook1.ipynb",
      "provenance": []
    },
    "kernelspec": {
      "display_name": "Python 3",
      "language": "python",
      "name": "python3"
    },
    "language_info": {
      "codemirror_mode": {
        "name": "ipython",
        "version": 3
      },
      "file_extension": ".py",
      "mimetype": "text/x-python",
      "name": "python",
      "nbconvert_exporter": "python",
      "pygments_lexer": "ipython3",
      "version": "3.7.3"
    }
  },
  "nbformat": 4,
  "nbformat_minor": 0
}